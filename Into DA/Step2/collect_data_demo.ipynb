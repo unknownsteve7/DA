# collect_data_demo.ipynb

import pandas as pd
import requests
from bs4 import BeautifulSoup

# 1. Load CSV
df = pd.read_csv("sample_data.csv")
print("CSV Preview:")
print(df.head())

# 2. Call Public API
weather = requests.get("https://api.openweathermap.org/data/2.5/weather?q=London&appid=YOUR_KEY")
print("API Data Sample:", weather.json())

# 3. Web Scraping Example
html = requests.get("https://www.imdb.com/chart/top").text
soup = BeautifulSoup(html, "html.parser")
titles = soup.select("td.titleColumn a")
print("Top 5 Movies:")
for movie in titles[:5]:
    print(movie.text)
