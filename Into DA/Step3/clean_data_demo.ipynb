{
 "cells": [
  {
   "cell_type": "markdown",
   "id": "22b7d4fa",
   "metadata": {},
   "source": [
    "# 🧼 Clean Data Demo\n",
    "This notebook demonstrates how to clean messy data using pandas."
   ]
  },
  {
   "cell_type": "code",
   "execution_count": null,
   "id": "174d1faf",
   "metadata": {},
   "outputs": [],
   "source": [
    "\n",
    "import pandas as pd\n",
    "\n",
    "# Load the dirty data\n",
    "df = pd.read_csv(\"dirty_data.csv\")\n",
    "df.head()\n"
   ]
  },
  {
   "cell_type": "markdown",
   "id": "bb9bd138",
   "metadata": {},
   "source": [
    "## Step 1: Check for Nulls"
   ]
  },
  {
   "cell_type": "code",
   "execution_count": null,
   "id": "8ebf16e0",
   "metadata": {},
   "outputs": [],
   "source": [
    "df.isnull().sum()"
   ]
  },
  {
   "cell_type": "markdown",
   "id": "13c57289",
   "metadata": {},
   "source": [
    "## Step 2: Drop or Fill Nulls"
   ]
  },
  {
   "cell_type": "code",
   "execution_count": null,
   "id": "7e747dfe",
   "metadata": {},
   "outputs": [],
   "source": [
    "df.fillna({'name': 'Unknown', 'age': df['age'].mean(), 'gender': 'unknown'}, inplace=True)"
   ]
  },
  {
   "cell_type": "markdown",
   "id": "dc6aaaec",
   "metadata": {},
   "source": [
    "## Step 3: Standardize Text"
   ]
  },
  {
   "cell_type": "code",
   "execution_count": null,
   "id": "e8ce92cd",
   "metadata": {},
   "outputs": [],
   "source": [
    "df['gender'] = df['gender'].str.strip().str.lower()"
   ]
  },
  {
   "cell_type": "markdown",
   "id": "696f6a15",
   "metadata": {},
   "source": [
    "## Step 4: Remove Duplicates"
   ]
  },
  {
   "cell_type": "code",
   "execution_count": null,
   "id": "9f255515",
   "metadata": {},
   "outputs": [],
   "source": [
    "df.drop_duplicates(inplace=True)"
   ]
  },
  {
   "cell_type": "markdown",
   "id": "c9e80479",
   "metadata": {},
   "source": [
    "## Step 5: Fix Column Types"
   ]
  },
  {
   "cell_type": "code",
   "execution_count": null,
   "id": "dcca2e7b",
   "metadata": {},
   "outputs": [],
   "source": [
    "\n",
    "df['income'] = df['income'].astype(str).str.strip().astype(float)\n",
    "df['signup_date'] = pd.to_datetime(df['signup_date'], errors='coerce')\n"
   ]
  },
  {
   "cell_type": "markdown",
   "id": "b43afd75",
   "metadata": {},
   "source": [
    "## Step 6: Rename Columns"
   ]
  },
  {
   "cell_type": "code",
   "execution_count": null,
   "id": "b6865fc3",
   "metadata": {},
   "outputs": [],
   "source": [
    "df.rename(columns={'signup_date': 'Signup_Date', 'income': 'Income'}, inplace=True)"
   ]
  },
  {
   "cell_type": "markdown",
   "id": "c4c3d3ad",
   "metadata": {},
   "source": [
    "## Step 7: Save Cleaned Data"
   ]
  },
  {
   "cell_type": "code",
   "execution_count": null,
   "id": "d0a45de0",
   "metadata": {},
   "outputs": [],
   "source": [
    "df.to_csv('cleaned_data.csv', index=False)\n",
    "df.head()"
   ]
  }
 ],
 "metadata": {},
 "nbformat": 4,
 "nbformat_minor": 5
}
